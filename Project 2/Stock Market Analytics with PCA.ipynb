{
 "cells": [
  {
   "cell_type": "code",
   "execution_count": null,
   "metadata": {},
   "outputs": [],
   "source": [
    "import numpy as np\n",
    "import pandas as pd\n",
    "import matplotlib.pyplot as plt\n",
    "import yfinance as yf\n",
    "import bs4 as bs\n",
    "import requests\n",
    "plt.style.use('fivethirtyeight')"
   ]
  },
  {
   "cell_type": "code",
   "execution_count": null,
   "metadata": {},
   "outputs": [],
   "source": [
    "# may need to install yfinance (an alternative to pandas_datareader library)\n",
    "# %pip install yfinance"
   ]
  },
  {
   "cell_type": "markdown",
   "metadata": {},
   "source": [
    "## Get tickers for S&P 500 constituents"
   ]
  },
  {
   "cell_type": "code",
   "execution_count": null,
   "metadata": {},
   "outputs": [],
   "source": [
    "# Scrap sp500 tickers\n",
    "def save_sp500_tickers():\n",
    "\n",
    "    resp = requests.get('http://en.wikipedia.org/wiki/List_of_S%26P_500_companies')\n",
    "    soup = bs.BeautifulSoup(resp.text, 'html')\n",
    "    table = soup.find('table', {'class': 'wikitable sortable'})\n",
    "    tickers = []\n",
    "    for row in table.findAll('tr')[1:]:\n",
    "        ticker = row.findAll('td')[0].text\n",
    "        if not '.' in ticker:\n",
    "            tickers.append(ticker.replace('\\n',''))\n",
    "        \n",
    "    return tickers\n",
    "\n",
    "tickers = save_sp500_tickers()"
   ]
  },
  {
   "cell_type": "code",
   "execution_count": null,
   "metadata": {},
   "outputs": [],
   "source": [
    "tickers"
   ]
  },
  {
   "cell_type": "code",
   "execution_count": null,
   "metadata": {},
   "outputs": [],
   "source": [
    "# Save to file - Option A\n",
    "with open('stock_symbol_list_SP500_A.txt', 'w') as filehandle:\n",
    "    for listitem in tickers:\n",
    "        filehandle.write('%s\\n' % tickers)"
   ]
  },
  {
   "cell_type": "code",
   "execution_count": null,
   "metadata": {},
   "outputs": [],
   "source": [
    "# Save to file - Option B\n",
    "with open('stock_symbol_list_SP500_B.txt', 'w') as filehandle:\n",
    "    filehandle.writelines(\"%s\\n\" % listitem for listitem in tickers)"
   ]
  },
  {
   "cell_type": "markdown",
   "metadata": {},
   "source": [
    "## Get data from Yahoo Finance"
   ]
  },
  {
   "cell_type": "code",
   "execution_count": null,
   "metadata": {},
   "outputs": [],
   "source": [
    "prices = yf.download(tickers, start='2018-01-01')['Adj Close'] "
   ]
  },
  {
   "cell_type": "code",
   "execution_count": null,
   "metadata": {},
   "outputs": [],
   "source": [
    "pd.set_option(\"display.precision\", 2)\n",
    "prices.head(3)"
   ]
  },
  {
   "cell_type": "code",
   "execution_count": null,
   "metadata": {},
   "outputs": [],
   "source": [
    "ret = prices.apply(np.log).diff(1)"
   ]
  },
  {
   "cell_type": "code",
   "execution_count": null,
   "metadata": {},
   "outputs": [],
   "source": [
    "ret.plot(legend=0, figsize=(10,6), grid=True, title='Daily Returns of the Stocks in the S&P500')\n",
    "plt.tight_layout()\n",
    "plt.savefig('SP500returns.png')"
   ]
  },
  {
   "cell_type": "code",
   "execution_count": null,
   "metadata": {},
   "outputs": [],
   "source": [
    "(ret.cumsum().apply(np.exp)).plot(legend=0, \n",
    "                                  figsize=(10,6), \n",
    "                                  grid=True, \n",
    "                                  title='Cumulative Returns of the Stocks in the S&P500')\n",
    "plt.tight_layout()\n",
    "plt.savefig('SP500Creturns.png')"
   ]
  },
  {
   "cell_type": "markdown",
   "metadata": {},
   "source": [
    "## Perform PCA"
   ]
  },
  {
   "cell_type": "code",
   "execution_count": null,
   "metadata": {},
   "outputs": [],
   "source": [
    "from sklearn.decomposition import PCA"
   ]
  },
  {
   "cell_type": "code",
   "execution_count": null,
   "metadata": {},
   "outputs": [],
   "source": [
    "pca = PCA(1).fit(ret.fillna(0))"
   ]
  },
  {
   "cell_type": "code",
   "execution_count": null,
   "metadata": {},
   "outputs": [],
   "source": [
    "pc1 = pd.Series(index=ret.columns, data=pca.components_[0])\n",
    "\n",
    "pc1.plot(figsize=(10,6), xticks=[], grid=True, title='First Principal Component of the S&P500')\n",
    "plt.tight_layout()\n",
    "#plt.savefig('PC1.png')"
   ]
  },
  {
   "cell_type": "code",
   "execution_count": null,
   "metadata": {},
   "outputs": [],
   "source": [
    "weights = abs(pc1)/sum(abs(pc1))\n",
    "myret = (weights*ret).sum(1)\n",
    "myret.cumsum().apply(np.exp).plot();"
   ]
  },
  {
   "cell_type": "markdown",
   "metadata": {},
   "source": [
    "## Get SP500 index data and compare performance"
   ]
  },
  {
   "cell_type": "code",
   "execution_count": null,
   "metadata": {},
   "outputs": [],
   "source": [
    "SP500index = yf.download(['SPY'], start='2018-01-01')['Adj Close'] "
   ]
  },
  {
   "cell_type": "code",
   "execution_count": null,
   "metadata": {},
   "outputs": [],
   "source": [
    "ret_df = pd.concat([myret, SP500index.apply(np.log).diff(1)], 1)\n",
    "ret_df.columns = [\"PCA Portfolio\", \"S&P500\"]\n",
    "\n",
    "ret_df.dropna().cumsum().apply(np.exp).plot(subplots=True, \n",
    "                                            figsize=(10,6), \n",
    "                                            grid=True, \n",
    "                                            linewidth=3);\n",
    "plt.tight_layout()\n",
    "#plt.savefig('ComparePerfromance.png')"
   ]
  },
  {
   "cell_type": "code",
   "execution_count": null,
   "metadata": {},
   "outputs": [],
   "source": [
    "fig, ax = plt.subplots(2,1, figsize=(10,6))\n",
    "pc1.nsmallest(10).plot.bar(ax=ax[0], \n",
    "                           color='green', \n",
    "                           grid=True, \n",
    "                           title='Stocks with Most Negative PCA Weights')\n",
    "pc1.nlargest(10).plot.bar(ax=ax[1], \n",
    "                          color='blue', \n",
    "                          grid=True, \n",
    "                          title='Stocks with Least Negative PCA Weights')\n",
    "plt.tight_layout()"
   ]
  },
  {
   "cell_type": "code",
   "execution_count": null,
   "metadata": {},
   "outputs": [],
   "source": [
    "# LONG ONLY PORTFOLIO\n",
    "myret = ret[pc1.nlargest(10).index].mean(1) # equally weighted portfolo from the 10 stocks\n",
    "myret.cumsum().apply(np.exp).plot(figsize=(15,5), \n",
    "                                  grid=True, \n",
    "                                  linewidth=3, \n",
    "                                  title='PCA Portfolio vs. S&P500')\n",
    "\n",
    "SP500index['2018':].apply(np.log).diff(1).cumsum().apply(np.exp).plot(figsize=(10,6), grid=True, linewidth=3)\n",
    "plt.legend(['PCA Selection', 'S&P500'])\n",
    "\n",
    "plt.tight_layout()"
   ]
  },
  {
   "cell_type": "code",
   "execution_count": null,
   "metadata": {},
   "outputs": [],
   "source": [
    "ws = [-1,]*10+[1,]*10\n",
    "ws"
   ]
  },
  {
   "cell_type": "code",
   "execution_count": null,
   "metadata": {},
   "outputs": [],
   "source": [
    "#LONG-SHORT PORTFOLIO\n",
    "ws = [-1,]*10+[1,]*10\n",
    "myret = (ret[list(pc1.nsmallest(10).index)+list(pc1.nlargest(10).index)]*ws).mean(1)\n",
    "\n",
    "myret.cumsum().apply(np.exp).plot(figsize=(15,5), \n",
    "                                  grid=True, \n",
    "                                  linewidth=3, \n",
    "                                  title='PCA Portfolio vs. S&P500')\n",
    "\n",
    "SP500index['2018':].apply(np.log).diff(1).cumsum().apply(np.exp).plot(figsize=(10,6), grid=True, linewidth=3)\n",
    "plt.legend(['PCA Selection (Long-Short)', 'S&P500'])\n",
    "\n",
    "plt.tight_layout()"
   ]
  },
  {
   "cell_type": "code",
   "execution_count": null,
   "metadata": {},
   "outputs": [],
   "source": []
  },
  {
   "cell_type": "markdown",
   "metadata": {},
   "source": [
    "## Plot all weights"
   ]
  },
  {
   "cell_type": "code",
   "execution_count": null,
   "metadata": {},
   "outputs": [],
   "source": [
    "# plot the weights in the PC\n",
    "weights_df = pd.DataFrame(data = weights*100,index = ret.columns)\n",
    "weights_df.columns=['Stock Weights (%)']\n",
    "weights_df.plot.bar(title='PCA portfolio weights',rot =90,fontsize =8, figsize=(18,10));"
   ]
  },
  {
   "cell_type": "code",
   "execution_count": null,
   "metadata": {},
   "outputs": [],
   "source": []
  }
 ],
 "metadata": {
  "kernelspec": {
   "display_name": "Python 3 (ipykernel)",
   "language": "python",
   "name": "python3"
  },
  "language_info": {
   "codemirror_mode": {
    "name": "ipython",
    "version": 3
   },
   "file_extension": ".py",
   "mimetype": "text/x-python",
   "name": "python",
   "nbconvert_exporter": "python",
   "pygments_lexer": "ipython3",
   "version": "3.9.7"
  }
 },
 "nbformat": 4,
 "nbformat_minor": 4
}
